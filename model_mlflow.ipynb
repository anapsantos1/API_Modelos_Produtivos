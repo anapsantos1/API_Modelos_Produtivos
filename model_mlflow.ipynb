{
 "cells": [
  {
   "cell_type": "code",
   "execution_count": 1,
   "metadata": {},
   "outputs": [
    {
     "data": {
      "text/html": [
       "<div>\n",
       "<style scoped>\n",
       "    .dataframe tbody tr th:only-of-type {\n",
       "        vertical-align: middle;\n",
       "    }\n",
       "\n",
       "    .dataframe tbody tr th {\n",
       "        vertical-align: top;\n",
       "    }\n",
       "\n",
       "    .dataframe thead th {\n",
       "        text-align: right;\n",
       "    }\n",
       "</style>\n",
       "<table border=\"1\" class=\"dataframe\">\n",
       "  <thead>\n",
       "    <tr style=\"text-align: right;\">\n",
       "      <th></th>\n",
       "      <th>label</th>\n",
       "      <th>feature_1</th>\n",
       "      <th>feature_2</th>\n",
       "      <th>feature_3</th>\n",
       "      <th>feature_4</th>\n",
       "      <th>feature_5</th>\n",
       "      <th>feature_6</th>\n",
       "      <th>feature_7</th>\n",
       "      <th>feature_8</th>\n",
       "      <th>feature_9</th>\n",
       "      <th>feature_10</th>\n",
       "      <th>feature_11</th>\n",
       "      <th>feature_12</th>\n",
       "      <th>feature_13</th>\n",
       "    </tr>\n",
       "  </thead>\n",
       "  <tbody>\n",
       "    <tr>\n",
       "      <th>0</th>\n",
       "      <td>1</td>\n",
       "      <td>13.20</td>\n",
       "      <td>1.78</td>\n",
       "      <td>2.14</td>\n",
       "      <td>11.2</td>\n",
       "      <td>100</td>\n",
       "      <td>2.65</td>\n",
       "      <td>2.76</td>\n",
       "      <td>0.26</td>\n",
       "      <td>1.28</td>\n",
       "      <td>4.38</td>\n",
       "      <td>1.05</td>\n",
       "      <td>3.40</td>\n",
       "      <td>1050</td>\n",
       "    </tr>\n",
       "    <tr>\n",
       "      <th>1</th>\n",
       "      <td>1</td>\n",
       "      <td>13.16</td>\n",
       "      <td>2.36</td>\n",
       "      <td>2.67</td>\n",
       "      <td>18.6</td>\n",
       "      <td>101</td>\n",
       "      <td>2.80</td>\n",
       "      <td>3.24</td>\n",
       "      <td>0.30</td>\n",
       "      <td>2.81</td>\n",
       "      <td>5.68</td>\n",
       "      <td>1.03</td>\n",
       "      <td>3.17</td>\n",
       "      <td>1185</td>\n",
       "    </tr>\n",
       "    <tr>\n",
       "      <th>2</th>\n",
       "      <td>1</td>\n",
       "      <td>14.37</td>\n",
       "      <td>1.95</td>\n",
       "      <td>2.50</td>\n",
       "      <td>16.8</td>\n",
       "      <td>113</td>\n",
       "      <td>3.85</td>\n",
       "      <td>3.49</td>\n",
       "      <td>0.24</td>\n",
       "      <td>2.18</td>\n",
       "      <td>7.80</td>\n",
       "      <td>0.86</td>\n",
       "      <td>3.45</td>\n",
       "      <td>1480</td>\n",
       "    </tr>\n",
       "    <tr>\n",
       "      <th>3</th>\n",
       "      <td>1</td>\n",
       "      <td>13.24</td>\n",
       "      <td>2.59</td>\n",
       "      <td>2.87</td>\n",
       "      <td>21.0</td>\n",
       "      <td>118</td>\n",
       "      <td>2.80</td>\n",
       "      <td>2.69</td>\n",
       "      <td>0.39</td>\n",
       "      <td>1.82</td>\n",
       "      <td>4.32</td>\n",
       "      <td>1.04</td>\n",
       "      <td>2.93</td>\n",
       "      <td>735</td>\n",
       "    </tr>\n",
       "    <tr>\n",
       "      <th>4</th>\n",
       "      <td>1</td>\n",
       "      <td>14.20</td>\n",
       "      <td>1.76</td>\n",
       "      <td>2.45</td>\n",
       "      <td>15.2</td>\n",
       "      <td>112</td>\n",
       "      <td>3.27</td>\n",
       "      <td>3.39</td>\n",
       "      <td>0.34</td>\n",
       "      <td>1.97</td>\n",
       "      <td>6.75</td>\n",
       "      <td>1.05</td>\n",
       "      <td>2.85</td>\n",
       "      <td>1450</td>\n",
       "    </tr>\n",
       "    <tr>\n",
       "      <th>...</th>\n",
       "      <td>...</td>\n",
       "      <td>...</td>\n",
       "      <td>...</td>\n",
       "      <td>...</td>\n",
       "      <td>...</td>\n",
       "      <td>...</td>\n",
       "      <td>...</td>\n",
       "      <td>...</td>\n",
       "      <td>...</td>\n",
       "      <td>...</td>\n",
       "      <td>...</td>\n",
       "      <td>...</td>\n",
       "      <td>...</td>\n",
       "      <td>...</td>\n",
       "    </tr>\n",
       "    <tr>\n",
       "      <th>172</th>\n",
       "      <td>3</td>\n",
       "      <td>13.71</td>\n",
       "      <td>5.65</td>\n",
       "      <td>2.45</td>\n",
       "      <td>20.5</td>\n",
       "      <td>95</td>\n",
       "      <td>1.68</td>\n",
       "      <td>0.61</td>\n",
       "      <td>0.52</td>\n",
       "      <td>1.06</td>\n",
       "      <td>7.70</td>\n",
       "      <td>0.64</td>\n",
       "      <td>1.74</td>\n",
       "      <td>740</td>\n",
       "    </tr>\n",
       "    <tr>\n",
       "      <th>173</th>\n",
       "      <td>3</td>\n",
       "      <td>13.40</td>\n",
       "      <td>3.91</td>\n",
       "      <td>2.48</td>\n",
       "      <td>23.0</td>\n",
       "      <td>102</td>\n",
       "      <td>1.80</td>\n",
       "      <td>0.75</td>\n",
       "      <td>0.43</td>\n",
       "      <td>1.41</td>\n",
       "      <td>7.30</td>\n",
       "      <td>0.70</td>\n",
       "      <td>1.56</td>\n",
       "      <td>750</td>\n",
       "    </tr>\n",
       "    <tr>\n",
       "      <th>174</th>\n",
       "      <td>3</td>\n",
       "      <td>13.27</td>\n",
       "      <td>4.28</td>\n",
       "      <td>2.26</td>\n",
       "      <td>20.0</td>\n",
       "      <td>120</td>\n",
       "      <td>1.59</td>\n",
       "      <td>0.69</td>\n",
       "      <td>0.43</td>\n",
       "      <td>1.35</td>\n",
       "      <td>10.20</td>\n",
       "      <td>0.59</td>\n",
       "      <td>1.56</td>\n",
       "      <td>835</td>\n",
       "    </tr>\n",
       "    <tr>\n",
       "      <th>175</th>\n",
       "      <td>3</td>\n",
       "      <td>13.17</td>\n",
       "      <td>2.59</td>\n",
       "      <td>2.37</td>\n",
       "      <td>20.0</td>\n",
       "      <td>120</td>\n",
       "      <td>1.65</td>\n",
       "      <td>0.68</td>\n",
       "      <td>0.53</td>\n",
       "      <td>1.46</td>\n",
       "      <td>9.30</td>\n",
       "      <td>0.60</td>\n",
       "      <td>1.62</td>\n",
       "      <td>840</td>\n",
       "    </tr>\n",
       "    <tr>\n",
       "      <th>176</th>\n",
       "      <td>3</td>\n",
       "      <td>14.13</td>\n",
       "      <td>4.10</td>\n",
       "      <td>2.74</td>\n",
       "      <td>24.5</td>\n",
       "      <td>96</td>\n",
       "      <td>2.05</td>\n",
       "      <td>0.76</td>\n",
       "      <td>0.56</td>\n",
       "      <td>1.35</td>\n",
       "      <td>9.20</td>\n",
       "      <td>0.61</td>\n",
       "      <td>1.60</td>\n",
       "      <td>560</td>\n",
       "    </tr>\n",
       "  </tbody>\n",
       "</table>\n",
       "<p>177 rows × 14 columns</p>\n",
       "</div>"
      ],
      "text/plain": [
       "     label  feature_1  feature_2  feature_3  feature_4  feature_5  feature_6  \\\n",
       "0        1      13.20       1.78       2.14       11.2        100       2.65   \n",
       "1        1      13.16       2.36       2.67       18.6        101       2.80   \n",
       "2        1      14.37       1.95       2.50       16.8        113       3.85   \n",
       "3        1      13.24       2.59       2.87       21.0        118       2.80   \n",
       "4        1      14.20       1.76       2.45       15.2        112       3.27   \n",
       "..     ...        ...        ...        ...        ...        ...        ...   \n",
       "172      3      13.71       5.65       2.45       20.5         95       1.68   \n",
       "173      3      13.40       3.91       2.48       23.0        102       1.80   \n",
       "174      3      13.27       4.28       2.26       20.0        120       1.59   \n",
       "175      3      13.17       2.59       2.37       20.0        120       1.65   \n",
       "176      3      14.13       4.10       2.74       24.5         96       2.05   \n",
       "\n",
       "     feature_7  feature_8  feature_9  feature_10  feature_11  feature_12  \\\n",
       "0         2.76       0.26       1.28        4.38        1.05        3.40   \n",
       "1         3.24       0.30       2.81        5.68        1.03        3.17   \n",
       "2         3.49       0.24       2.18        7.80        0.86        3.45   \n",
       "3         2.69       0.39       1.82        4.32        1.04        2.93   \n",
       "4         3.39       0.34       1.97        6.75        1.05        2.85   \n",
       "..         ...        ...        ...         ...         ...         ...   \n",
       "172       0.61       0.52       1.06        7.70        0.64        1.74   \n",
       "173       0.75       0.43       1.41        7.30        0.70        1.56   \n",
       "174       0.69       0.43       1.35       10.20        0.59        1.56   \n",
       "175       0.68       0.53       1.46        9.30        0.60        1.62   \n",
       "176       0.76       0.56       1.35        9.20        0.61        1.60   \n",
       "\n",
       "     feature_13  \n",
       "0          1050  \n",
       "1          1185  \n",
       "2          1480  \n",
       "3           735  \n",
       "4          1450  \n",
       "..          ...  \n",
       "172         740  \n",
       "173         750  \n",
       "174         835  \n",
       "175         840  \n",
       "176         560  \n",
       "\n",
       "[177 rows x 14 columns]"
      ]
     },
     "execution_count": 1,
     "metadata": {},
     "output_type": "execute_result"
    }
   ],
   "source": [
    "import pandas as pd\n",
    "\n",
    "URL = 'https://raw.githubusercontent.com/ricardo-jr37/mlflow_tutorial/master/data/wine.data'\n",
    "\n",
    "\n",
    "df = pd.read_csv(URL)\n",
    "\n",
    "cols = ['label']\n",
    "\n",
    "cols.extend(['feature_'+str(i) for i in range(1,14)])\n",
    "\n",
    "df.columns = cols\n",
    "\n",
    "df"
   ]
  },
  {
   "cell_type": "code",
   "execution_count": 3,
   "metadata": {},
   "outputs": [],
   "source": [
    "from sklearn.model_selection import train_test_split\n",
    "from sklearn.preprocessing import LabelEncoder\n",
    "\n",
    "\n",
    "\n",
    "\n",
    "X = df.iloc[:, :-1]\n",
    "y = df['label']\n",
    "\n",
    "\n",
    "le = LabelEncoder()\n",
    "le.fit(y)\n",
    "y = le.transform(y)\n",
    "\n",
    "X_train, X_test, y_train, y_test = train_test_split(X,y , test_size=0.3)\n",
    "\n",
    "\n",
    "X_train, X_val, y_train, y_val = train_test_split(X_train, y_train, test_size=0.25)\n"
   ]
  },
  {
   "cell_type": "code",
   "execution_count": 18,
   "metadata": {},
   "outputs": [],
   "source": [
    "import mlflow"
   ]
  },
  {
   "cell_type": "code",
   "execution_count": 8,
   "metadata": {},
   "outputs": [
    {
     "name": "stdout",
     "output_type": "stream",
     "text": [
      "Requirement already satisfied: mlflow in /home/aplslxx/projeto_final/.venv/lib/python3.8/site-packages (1.30.0)\n",
      "Requirement already satisfied: databricks-cli<1,>=0.8.7 in /home/aplslxx/projeto_final/.venv/lib/python3.8/site-packages (from mlflow) (0.17.3)\n",
      "Requirement already satisfied: docker<7,>=4.0.0 in /home/aplslxx/projeto_final/.venv/lib/python3.8/site-packages (from mlflow) (6.0.1)\n",
      "Requirement already satisfied: click<9,>=7.0 in /home/aplslxx/projeto_final/.venv/lib/python3.8/site-packages (from mlflow) (8.1.3)\n",
      "Requirement already satisfied: sqlparse<1,>=0.4.0 in /home/aplslxx/projeto_final/.venv/lib/python3.8/site-packages (from mlflow) (0.4.3)\n",
      "Requirement already satisfied: numpy<2 in /home/aplslxx/projeto_final/.venv/lib/python3.8/site-packages (from mlflow) (1.22.3)\n",
      "Requirement already satisfied: cloudpickle<3 in /home/aplslxx/projeto_final/.venv/lib/python3.8/site-packages (from mlflow) (2.2.0)\n",
      "Requirement already satisfied: querystring-parser<2 in /home/aplslxx/projeto_final/.venv/lib/python3.8/site-packages (from mlflow) (1.2.4)\n",
      "Requirement already satisfied: prometheus-flask-exporter<1 in /home/aplslxx/projeto_final/.venv/lib/python3.8/site-packages (from mlflow) (0.21.0)\n",
      "Requirement already satisfied: protobuf<5,>=3.12.0 in /home/aplslxx/projeto_final/.venv/lib/python3.8/site-packages (from mlflow) (3.19.4)\n",
      "Requirement already satisfied: scipy<2 in /home/aplslxx/projeto_final/.venv/lib/python3.8/site-packages (from mlflow) (1.8.0)\n",
      "Requirement already satisfied: requests<3,>=2.17.3 in /home/aplslxx/projeto_final/.venv/lib/python3.8/site-packages (from mlflow) (2.28.1)\n",
      "Requirement already satisfied: packaging<22 in /home/aplslxx/projeto_final/.venv/lib/python3.8/site-packages (from mlflow) (21.3)\n",
      "Requirement already satisfied: alembic<2 in /home/aplslxx/projeto_final/.venv/lib/python3.8/site-packages (from mlflow) (1.8.1)\n",
      "Requirement already satisfied: Flask<3 in /home/aplslxx/projeto_final/.venv/lib/python3.8/site-packages (from mlflow) (2.2.2)\n",
      "Requirement already satisfied: pandas<2 in /home/aplslxx/projeto_final/.venv/lib/python3.8/site-packages (from mlflow) (1.4.2)\n",
      "Requirement already satisfied: sqlalchemy<2,>=1.4.0 in /home/aplslxx/projeto_final/.venv/lib/python3.8/site-packages (from mlflow) (1.4.44)\n",
      "Requirement already satisfied: importlib-metadata!=4.7.0,<6,>=3.7.0 in /home/aplslxx/projeto_final/.venv/lib/python3.8/site-packages (from mlflow) (5.0.0)\n",
      "Requirement already satisfied: gitpython<4,>=2.1.0 in /home/aplslxx/projeto_final/.venv/lib/python3.8/site-packages (from mlflow) (3.1.29)\n",
      "Requirement already satisfied: pytz<2023 in /home/aplslxx/projeto_final/.venv/lib/python3.8/site-packages (from mlflow) (2022.1)\n",
      "Requirement already satisfied: pyyaml<7,>=5.1 in /home/aplslxx/projeto_final/.venv/lib/python3.8/site-packages (from mlflow) (6.0)\n",
      "Requirement already satisfied: gunicorn<21; platform_system != \"Windows\" in /home/aplslxx/projeto_final/.venv/lib/python3.8/site-packages (from mlflow) (20.1.0)\n",
      "Requirement already satisfied: entrypoints<1 in /home/aplslxx/projeto_final/.venv/lib/python3.8/site-packages (from mlflow) (0.4)\n",
      "Requirement already satisfied: oauthlib>=3.1.0 in /home/aplslxx/projeto_final/.venv/lib/python3.8/site-packages (from databricks-cli<1,>=0.8.7->mlflow) (3.2.0)\n",
      "Requirement already satisfied: pyjwt>=1.7.0 in /home/aplslxx/projeto_final/.venv/lib/python3.8/site-packages (from databricks-cli<1,>=0.8.7->mlflow) (2.6.0)\n",
      "Requirement already satisfied: six>=1.10.0 in /home/aplslxx/projeto_final/.venv/lib/python3.8/site-packages (from databricks-cli<1,>=0.8.7->mlflow) (1.16.0)\n",
      "Requirement already satisfied: tabulate>=0.7.7 in /home/aplslxx/projeto_final/.venv/lib/python3.8/site-packages (from databricks-cli<1,>=0.8.7->mlflow) (0.9.0)\n",
      "Requirement already satisfied: websocket-client>=0.32.0 in /home/aplslxx/projeto_final/.venv/lib/python3.8/site-packages (from docker<7,>=4.0.0->mlflow) (1.4.2)\n",
      "Requirement already satisfied: urllib3>=1.26.0 in /home/aplslxx/projeto_final/.venv/lib/python3.8/site-packages (from docker<7,>=4.0.0->mlflow) (1.26.9)\n",
      "Requirement already satisfied: prometheus-client in /home/aplslxx/projeto_final/.venv/lib/python3.8/site-packages (from prometheus-flask-exporter<1->mlflow) (0.14.1)\n",
      "Requirement already satisfied: charset-normalizer<3,>=2 in /home/aplslxx/projeto_final/.venv/lib/python3.8/site-packages (from requests<3,>=2.17.3->mlflow) (2.1.0)\n",
      "Requirement already satisfied: idna<4,>=2.5 in /home/aplslxx/projeto_final/.venv/lib/python3.8/site-packages (from requests<3,>=2.17.3->mlflow) (3.3)\n",
      "Requirement already satisfied: certifi>=2017.4.17 in /home/aplslxx/projeto_final/.venv/lib/python3.8/site-packages (from requests<3,>=2.17.3->mlflow) (2022.6.15)\n",
      "Requirement already satisfied: pyparsing!=3.0.5,>=2.0.2 in /home/aplslxx/projeto_final/.venv/lib/python3.8/site-packages (from packaging<22->mlflow) (3.0.8)\n",
      "Requirement already satisfied: Mako in /home/aplslxx/projeto_final/.venv/lib/python3.8/site-packages (from alembic<2->mlflow) (1.2.3)\n",
      "Requirement already satisfied: importlib-resources; python_version < \"3.9\" in /home/aplslxx/projeto_final/.venv/lib/python3.8/site-packages (from alembic<2->mlflow) (5.10.0)\n",
      "Requirement already satisfied: Jinja2>=3.0 in /home/aplslxx/projeto_final/.venv/lib/python3.8/site-packages (from Flask<3->mlflow) (3.1.2)\n",
      "Requirement already satisfied: itsdangerous>=2.0 in /home/aplslxx/projeto_final/.venv/lib/python3.8/site-packages (from Flask<3->mlflow) (2.1.2)\n",
      "Requirement already satisfied: Werkzeug>=2.2.2 in /home/aplslxx/projeto_final/.venv/lib/python3.8/site-packages (from Flask<3->mlflow) (2.2.2)\n",
      "Requirement already satisfied: python-dateutil>=2.8.1 in /home/aplslxx/projeto_final/.venv/lib/python3.8/site-packages (from pandas<2->mlflow) (2.8.2)\n",
      "Requirement already satisfied: greenlet!=0.4.17; python_version >= \"3\" and (platform_machine == \"aarch64\" or (platform_machine == \"ppc64le\" or (platform_machine == \"x86_64\" or (platform_machine == \"amd64\" or (platform_machine == \"AMD64\" or (platform_machine == \"win32\" or platform_machine == \"WIN32\")))))) in /home/aplslxx/projeto_final/.venv/lib/python3.8/site-packages (from sqlalchemy<2,>=1.4.0->mlflow) (2.0.1)\n",
      "Requirement already satisfied: zipp>=0.5 in /home/aplslxx/projeto_final/.venv/lib/python3.8/site-packages (from importlib-metadata!=4.7.0,<6,>=3.7.0->mlflow) (3.10.0)\n",
      "Requirement already satisfied: gitdb<5,>=4.0.1 in /home/aplslxx/projeto_final/.venv/lib/python3.8/site-packages (from gitpython<4,>=2.1.0->mlflow) (4.0.9)\n",
      "Requirement already satisfied: setuptools>=3.0 in /home/aplslxx/projeto_final/.venv/lib/python3.8/site-packages (from gunicorn<21; platform_system != \"Windows\"->mlflow) (44.0.0)\n",
      "Requirement already satisfied: MarkupSafe>=0.9.2 in /home/aplslxx/projeto_final/.venv/lib/python3.8/site-packages (from Mako->alembic<2->mlflow) (2.1.1)\n",
      "Requirement already satisfied: smmap<6,>=3.0.1 in /home/aplslxx/projeto_final/.venv/lib/python3.8/site-packages (from gitdb<5,>=4.0.1->gitpython<4,>=2.1.0->mlflow) (5.0.0)\n",
      "Note: you may need to restart the kernel to use updated packages.\n"
     ]
    }
   ],
   "source": [
    "pip install mlflow"
   ]
  },
  {
   "cell_type": "code",
   "execution_count": 5,
   "metadata": {},
   "outputs": [
    {
     "ename": "SyntaxError",
     "evalue": "invalid syntax (4273265461.py, line 1)",
     "output_type": "error",
     "traceback": [
      "\u001b[0;36m  Input \u001b[0;32mIn [5]\u001b[0;36m\u001b[0m\n\u001b[0;31m    mlflow db upgrade sqlite:///mlrunsdb.db\u001b[0m\n\u001b[0m           ^\u001b[0m\n\u001b[0;31mSyntaxError\u001b[0m\u001b[0;31m:\u001b[0m invalid syntax\n"
     ]
    }
   ],
   "source": [
    "mlflow db upgrade sqlite:///mlrunsdb.db"
   ]
  },
  {
   "cell_type": "code",
   "execution_count": 6,
   "metadata": {},
   "outputs": [
    {
     "name": "stderr",
     "output_type": "stream",
     "text": [
      "2022/11/14 18:15:51 INFO mlflow.tracking.fluent: Experiment with name 'Classificação de vinhos' does not exist. Creating a new experiment.\n"
     ]
    }
   ],
   "source": [
    "DB_URI = 'sqlite:///mlrunsdb.db'\n",
    "mlflow.set_tracking_uri(DB_URI)\n",
    "tags = {\n",
    "    \"Módulo\":\"Modelos Produtivos 4\",\n",
    "    \"Turma\":815,\n",
    "    \"objeto\":'pinguins'\n",
    "}\n",
    "mlflow.set_experiment(experiment_name='Classificação de especies de pinguins')\n",
    "mlflow.set_experiment_tags(tags=tags)"
   ]
  },
  {
   "cell_type": "code",
   "execution_count": 7,
   "metadata": {},
   "outputs": [],
   "source": [
    "from sklearn.neighbors import KNeighborsClassifier\n",
    "from sklearn.preprocessing import StandardScaler\n",
    "from sklearn.pipeline import Pipeline\n",
    "\n",
    "with mlflow.start_run(\n",
    "    run_name='Tentativa 1',\n",
    "    description='Classificando de vinhos',\n",
    "    tags={\"version\":\"v2\"}\n",
    ")as model_run:\n",
    "    k = 7\n",
    "    knn = KNeighborsClassifier(n_neighbors=k)\n",
    "\n",
    "    model = Pipeline([\n",
    "        ('scaler',StandardScaler()),\n",
    "        ('knn',knn)\n",
    "    ])\n",
    "\n",
    "    model.fit(X_train,y_train)"
   ]
  },
  {
   "cell_type": "code",
   "execution_count": 8,
   "metadata": {},
   "outputs": [],
   "source": [
    "y_pred = model.predict(X_test)"
   ]
  },
  {
   "cell_type": "code",
   "execution_count": 9,
   "metadata": {},
   "outputs": [
    {
     "data": {
      "text/plain": [
       "7"
      ]
     },
     "execution_count": 9,
     "metadata": {},
     "output_type": "execute_result"
    }
   ],
   "source": [
    "mlflow.log_param(\"k\", k)"
   ]
  },
  {
   "cell_type": "code",
   "execution_count": 10,
   "metadata": {},
   "outputs": [],
   "source": [
    "from sklearn.metrics import (accuracy_score, precision_score, recall_score, f1_score, confusion_matrix)\n",
    "\n",
    "\n",
    "def get_metrics(y_test:list, y_pred:list) -> list:\n",
    "    ac = accuracy_score(y_test, y_pred)\n",
    "    pr = precision_score(y_test, y_pred, average='weighted')\n",
    "    rc = recall_score(y_test, y_pred, average='weighted')\n",
    "    f1 = f1_score(y_test, y_pred, average='weighted')\n",
    "    return [ac, pr, rc, f1]"
   ]
  },
  {
   "cell_type": "code",
   "execution_count": 13,
   "metadata": {},
   "outputs": [
    {
     "name": "stdout",
     "output_type": "stream",
     "text": [
      "0.9629629629629629 0.966183574879227 0.9629629629629629 0.962830054935318\n"
     ]
    }
   ],
   "source": [
    "ac, pr, rc, f1 = get_metrics(y_test, y_pred)\n",
    "params = {\n",
    "    \"k\":k,\n",
    "    \"size_train_dataset\": len(X_train),\n",
    "    \"size_test_dataset\": len(X_test),\n",
    "}\n",
    "\n",
    "metrics = {\n",
    "    \"acuracia\":ac,\n",
    "    \"precision\":pr,\n",
    "    \"recall\":rc,\n",
    "    \"f1\":f1\n",
    "}\n",
    "\n",
    "mlflow.log_params(params=params)\n",
    "mlflow.log_metrics(metrics=metrics)\n",
    "\n",
    "mlflow.sklearn.log_model(model, \"model\")\n",
    "print(ac, pr, rc, f1)"
   ]
  },
  {
   "cell_type": "code",
   "execution_count": 14,
   "metadata": {},
   "outputs": [
    {
     "data": {
      "text/plain": [
       "['knn_model_v1.pkl']"
      ]
     },
     "execution_count": 14,
     "metadata": {},
     "output_type": "execute_result"
    }
   ],
   "source": [
    "import joblib\n",
    "\n",
    "\n",
    "file_name = 'knn_model_v1.pkl'\n",
    "\n",
    "\n",
    "joblib.dump(model, file_name)"
   ]
  },
  {
   "cell_type": "code",
   "execution_count": 15,
   "metadata": {},
   "outputs": [
    {
     "data": {
      "text/plain": [
       "array([2, 1, 0, 1, 1, 2, 1, 0, 1, 0, 1, 1, 1, 1, 1, 1, 0, 1, 0, 2, 0, 0,\n",
       "       0, 1, 0, 1, 0, 1, 2, 2, 2])"
      ]
     },
     "execution_count": 15,
     "metadata": {},
     "output_type": "execute_result"
    }
   ],
   "source": [
    "val_model = joblib.load('knn_model_v1.pkl')\n",
    "\n",
    "val_model.predict(X_val)"
   ]
  },
  {
   "cell_type": "code",
   "execution_count": 16,
   "metadata": {},
   "outputs": [
    {
     "data": {
      "text/plain": [
       "0.9354838709677419"
      ]
     },
     "execution_count": 16,
     "metadata": {},
     "output_type": "execute_result"
    }
   ],
   "source": [
    "val_model.score(X_val, y_val)"
   ]
  },
  {
   "cell_type": "code",
   "execution_count": 17,
   "metadata": {},
   "outputs": [
    {
     "ename": "RestException",
     "evalue": "RESOURCE_DOES_NOT_EXIST: Registered Model with name=classificacao_vinho not found",
     "output_type": "error",
     "traceback": [
      "\u001b[0;31m---------------------------------------------------------------------------\u001b[0m",
      "\u001b[0;31mRestException\u001b[0m                             Traceback (most recent call last)",
      "\u001b[1;32m/home/aplslxx/projeto_final_2/model_mlflow.ipynb Cell 15\u001b[0m in \u001b[0;36m<cell line: 4>\u001b[0;34m()\u001b[0m\n\u001b[1;32m      <a href='vscode-notebook-cell://wsl%2Bubuntu-20.04/home/aplslxx/projeto_final_2/model_mlflow.ipynb#X20sdnNjb2RlLXJlbW90ZQ%3D%3D?line=0'>1</a>\u001b[0m \u001b[39mimport\u001b[39;00m \u001b[39mmlflow\u001b[39;00m\n\u001b[1;32m      <a href='vscode-notebook-cell://wsl%2Bubuntu-20.04/home/aplslxx/projeto_final_2/model_mlflow.ipynb#X20sdnNjb2RlLXJlbW90ZQ%3D%3D?line=2'>3</a>\u001b[0m mlflow\u001b[39m.\u001b[39mset_tracking_uri(uri\u001b[39m=\u001b[39m\u001b[39m'\u001b[39m\u001b[39mhttp://localhost:5000/\u001b[39m\u001b[39m'\u001b[39m)\n\u001b[0;32m----> <a href='vscode-notebook-cell://wsl%2Bubuntu-20.04/home/aplslxx/projeto_final_2/model_mlflow.ipynb#X20sdnNjb2RlLXJlbW90ZQ%3D%3D?line=3'>4</a>\u001b[0m mlflow\u001b[39m.\u001b[39;49msklearn\u001b[39m.\u001b[39;49mload_model(\u001b[39m'\u001b[39;49m\u001b[39mmodels:/classificacao_vinho/Production\u001b[39;49m\u001b[39m'\u001b[39;49m)\n",
      "File \u001b[0;32m~/projeto_final/.venv/lib/python3.8/site-packages/mlflow/sklearn/__init__.py:583\u001b[0m, in \u001b[0;36mload_model\u001b[0;34m(model_uri, dst_path)\u001b[0m\n\u001b[1;32m    551\u001b[0m \u001b[39mdef\u001b[39;00m \u001b[39mload_model\u001b[39m(model_uri, dst_path\u001b[39m=\u001b[39m\u001b[39mNone\u001b[39;00m):\n\u001b[1;32m    552\u001b[0m     \u001b[39m\"\"\"\u001b[39;00m\n\u001b[1;32m    553\u001b[0m \u001b[39m    Load a scikit-learn model from a local file or a run.\u001b[39;00m\n\u001b[1;32m    554\u001b[0m \n\u001b[0;32m   (...)\u001b[0m\n\u001b[1;32m    581\u001b[0m \u001b[39m        predictions = sk_model.predict(pandas_df)\u001b[39;00m\n\u001b[1;32m    582\u001b[0m \u001b[39m    \"\"\"\u001b[39;00m\n\u001b[0;32m--> 583\u001b[0m     local_model_path \u001b[39m=\u001b[39m _download_artifact_from_uri(artifact_uri\u001b[39m=\u001b[39;49mmodel_uri, output_path\u001b[39m=\u001b[39;49mdst_path)\n\u001b[1;32m    584\u001b[0m     flavor_conf \u001b[39m=\u001b[39m _get_flavor_configuration(model_path\u001b[39m=\u001b[39mlocal_model_path, flavor_name\u001b[39m=\u001b[39mFLAVOR_NAME)\n\u001b[1;32m    585\u001b[0m     _add_code_from_conf_to_system_path(local_model_path, flavor_conf)\n",
      "File \u001b[0;32m~/projeto_final/.venv/lib/python3.8/site-packages/mlflow/tracking/artifact_utils.py:100\u001b[0m, in \u001b[0;36m_download_artifact_from_uri\u001b[0;34m(artifact_uri, output_path)\u001b[0m\n\u001b[1;32m     94\u001b[0m \u001b[39m\"\"\"\u001b[39;00m\n\u001b[1;32m     95\u001b[0m \u001b[39m:param artifact_uri: The *absolute* URI of the artifact to download.\u001b[39;00m\n\u001b[1;32m     96\u001b[0m \u001b[39m:param output_path: The local filesystem path to which to download the artifact. If unspecified,\u001b[39;00m\n\u001b[1;32m     97\u001b[0m \u001b[39m                    a local output path will be created.\u001b[39;00m\n\u001b[1;32m     98\u001b[0m \u001b[39m\"\"\"\u001b[39;00m\n\u001b[1;32m     99\u001b[0m root_uri, artifact_path \u001b[39m=\u001b[39m _get_root_uri_and_artifact_path(artifact_uri)\n\u001b[0;32m--> 100\u001b[0m \u001b[39mreturn\u001b[39;00m get_artifact_repository(artifact_uri\u001b[39m=\u001b[39;49mroot_uri)\u001b[39m.\u001b[39mdownload_artifacts(\n\u001b[1;32m    101\u001b[0m     artifact_path\u001b[39m=\u001b[39martifact_path, dst_path\u001b[39m=\u001b[39moutput_path\n\u001b[1;32m    102\u001b[0m )\n",
      "File \u001b[0;32m~/projeto_final/.venv/lib/python3.8/site-packages/mlflow/store/artifact/artifact_repository_registry.py:107\u001b[0m, in \u001b[0;36mget_artifact_repository\u001b[0;34m(artifact_uri)\u001b[0m\n\u001b[1;32m     97\u001b[0m \u001b[39mdef\u001b[39;00m \u001b[39mget_artifact_repository\u001b[39m(artifact_uri):\n\u001b[1;32m     98\u001b[0m     \u001b[39m\"\"\"Get an artifact repository from the registry based on the scheme of artifact_uri\u001b[39;00m\n\u001b[1;32m     99\u001b[0m \n\u001b[1;32m    100\u001b[0m \u001b[39m    :param artifact_uri: The artifact store URI. This URI is used to select which artifact\u001b[39;00m\n\u001b[0;32m   (...)\u001b[0m\n\u001b[1;32m    105\u001b[0m \u001b[39m             requirements.\u001b[39;00m\n\u001b[1;32m    106\u001b[0m \u001b[39m    \"\"\"\u001b[39;00m\n\u001b[0;32m--> 107\u001b[0m     \u001b[39mreturn\u001b[39;00m _artifact_repository_registry\u001b[39m.\u001b[39;49mget_artifact_repository(artifact_uri)\n",
      "File \u001b[0;32m~/projeto_final/.venv/lib/python3.8/site-packages/mlflow/store/artifact/artifact_repository_registry.py:73\u001b[0m, in \u001b[0;36mArtifactRepositoryRegistry.get_artifact_repository\u001b[0;34m(self, artifact_uri)\u001b[0m\n\u001b[1;32m     66\u001b[0m \u001b[39mif\u001b[39;00m repository \u001b[39mis\u001b[39;00m \u001b[39mNone\u001b[39;00m:\n\u001b[1;32m     67\u001b[0m     \u001b[39mraise\u001b[39;00m MlflowException(\n\u001b[1;32m     68\u001b[0m         \u001b[39m\"\u001b[39m\u001b[39mCould not find a registered artifact repository for: \u001b[39m\u001b[39m{}\u001b[39;00m\u001b[39m. \u001b[39m\u001b[39m\"\u001b[39m\n\u001b[1;32m     69\u001b[0m         \u001b[39m\"\u001b[39m\u001b[39mCurrently registered schemes are: \u001b[39m\u001b[39m{}\u001b[39;00m\u001b[39m\"\u001b[39m\u001b[39m.\u001b[39mformat(\n\u001b[1;32m     70\u001b[0m             artifact_uri, \u001b[39mlist\u001b[39m(\u001b[39mself\u001b[39m\u001b[39m.\u001b[39m_registry\u001b[39m.\u001b[39mkeys())\n\u001b[1;32m     71\u001b[0m         )\n\u001b[1;32m     72\u001b[0m     )\n\u001b[0;32m---> 73\u001b[0m \u001b[39mreturn\u001b[39;00m repository(artifact_uri)\n",
      "File \u001b[0;32m~/projeto_final/.venv/lib/python3.8/site-packages/mlflow/store/artifact/models_artifact_repo.py:35\u001b[0m, in \u001b[0;36mModelsArtifactRepository.__init__\u001b[0;34m(self, artifact_uri)\u001b[0m\n\u001b[1;32m     33\u001b[0m     \u001b[39mself\u001b[39m\u001b[39m.\u001b[39mrepo \u001b[39m=\u001b[39m DatabricksModelsArtifactRepository(artifact_uri)\n\u001b[1;32m     34\u001b[0m \u001b[39melse\u001b[39;00m:\n\u001b[0;32m---> 35\u001b[0m     uri \u001b[39m=\u001b[39m ModelsArtifactRepository\u001b[39m.\u001b[39;49mget_underlying_uri(artifact_uri)\n\u001b[1;32m     36\u001b[0m     \u001b[39mself\u001b[39m\u001b[39m.\u001b[39mrepo \u001b[39m=\u001b[39m get_artifact_repository(uri)\n",
      "File \u001b[0;32m~/projeto_final/.venv/lib/python3.8/site-packages/mlflow/store/artifact/models_artifact_repo.py:69\u001b[0m, in \u001b[0;36mModelsArtifactRepository.get_underlying_uri\u001b[0;34m(uri)\u001b[0m\n\u001b[1;32m     65\u001b[0m databricks_profile_uri \u001b[39m=\u001b[39m (\n\u001b[1;32m     66\u001b[0m     get_databricks_profile_uri_from_artifact_uri(uri) \u001b[39mor\u001b[39;00m mlflow\u001b[39m.\u001b[39mget_registry_uri()\n\u001b[1;32m     67\u001b[0m )\n\u001b[1;32m     68\u001b[0m client \u001b[39m=\u001b[39m MlflowClient(registry_uri\u001b[39m=\u001b[39mdatabricks_profile_uri)\n\u001b[0;32m---> 69\u001b[0m (name, version) \u001b[39m=\u001b[39m get_model_name_and_version(client, uri)\n\u001b[1;32m     70\u001b[0m download_uri \u001b[39m=\u001b[39m client\u001b[39m.\u001b[39mget_model_version_download_uri(name, version)\n\u001b[1;32m     71\u001b[0m \u001b[39mreturn\u001b[39;00m add_databricks_profile_info_to_artifact_uri(download_uri, databricks_profile_uri)\n",
      "File \u001b[0;32m~/projeto_final/.venv/lib/python3.8/site-packages/mlflow/store/artifact/utils/models.py:74\u001b[0m, in \u001b[0;36mget_model_name_and_version\u001b[0;34m(client, models_uri)\u001b[0m\n\u001b[1;32m     72\u001b[0m \u001b[39mif\u001b[39;00m model_version \u001b[39mis\u001b[39;00m \u001b[39mnot\u001b[39;00m \u001b[39mNone\u001b[39;00m:\n\u001b[1;32m     73\u001b[0m     \u001b[39mreturn\u001b[39;00m model_name, \u001b[39mstr\u001b[39m(model_version)\n\u001b[0;32m---> 74\u001b[0m \u001b[39mreturn\u001b[39;00m model_name, \u001b[39mstr\u001b[39m(_get_latest_model_version(client, model_name, model_stage))\n",
      "File \u001b[0;32m~/projeto_final/.venv/lib/python3.8/site-packages/mlflow/store/artifact/utils/models.py:28\u001b[0m, in \u001b[0;36m_get_latest_model_version\u001b[0;34m(client, name, stage)\u001b[0m\n\u001b[1;32m     23\u001b[0m \u001b[39mdef\u001b[39;00m \u001b[39m_get_latest_model_version\u001b[39m(client, name, stage):\n\u001b[1;32m     24\u001b[0m     \u001b[39m\"\"\"\u001b[39;00m\n\u001b[1;32m     25\u001b[0m \u001b[39m    Returns the latest version of the stage if stage is not None. Otherwise return the latest of all\u001b[39;00m\n\u001b[1;32m     26\u001b[0m \u001b[39m    versions.\u001b[39;00m\n\u001b[1;32m     27\u001b[0m \u001b[39m    \"\"\"\u001b[39;00m\n\u001b[0;32m---> 28\u001b[0m     latest \u001b[39m=\u001b[39m client\u001b[39m.\u001b[39;49mget_latest_versions(name, \u001b[39mNone\u001b[39;49;00m \u001b[39mif\u001b[39;49;00m stage \u001b[39mis\u001b[39;49;00m \u001b[39mNone\u001b[39;49;00m \u001b[39melse\u001b[39;49;00m [stage])\n\u001b[1;32m     29\u001b[0m     \u001b[39mif\u001b[39;00m \u001b[39mlen\u001b[39m(latest) \u001b[39m==\u001b[39m \u001b[39m0\u001b[39m:\n\u001b[1;32m     30\u001b[0m         stage_str \u001b[39m=\u001b[39m \u001b[39m\"\u001b[39m\u001b[39m\"\u001b[39m \u001b[39mif\u001b[39;00m stage \u001b[39mis\u001b[39;00m \u001b[39mNone\u001b[39;00m \u001b[39melse\u001b[39;00m \u001b[39m\"\u001b[39m\u001b[39m and stage \u001b[39m\u001b[39m'\u001b[39m\u001b[39m{stage}\u001b[39;00m\u001b[39m'\u001b[39m\u001b[39m\"\u001b[39m\u001b[39m.\u001b[39mformat(stage\u001b[39m=\u001b[39mstage)\n",
      "File \u001b[0;32m~/projeto_final/.venv/lib/python3.8/site-packages/mlflow/tracking/client.py:2251\u001b[0m, in \u001b[0;36mMlflowClient.get_latest_versions\u001b[0;34m(self, name, stages)\u001b[0m\n\u001b[1;32m   2186\u001b[0m \u001b[39mdef\u001b[39;00m \u001b[39mget_latest_versions\u001b[39m(\u001b[39mself\u001b[39m, name: \u001b[39mstr\u001b[39m, stages: List[\u001b[39mstr\u001b[39m] \u001b[39m=\u001b[39m \u001b[39mNone\u001b[39;00m) \u001b[39m-\u001b[39m\u001b[39m>\u001b[39m List[ModelVersion]:\n\u001b[1;32m   2187\u001b[0m     \u001b[39m\"\"\"\u001b[39;00m\n\u001b[1;32m   2188\u001b[0m \u001b[39m    Latest version models for each requests stage. If no ``stages`` provided, returns the\u001b[39;00m\n\u001b[1;32m   2189\u001b[0m \u001b[39m    latest version for each stage.\u001b[39;00m\n\u001b[0;32m   (...)\u001b[0m\n\u001b[1;32m   2249\u001b[0m \u001b[39m        current_stage: None\u001b[39;00m\n\u001b[1;32m   2250\u001b[0m \u001b[39m    \"\"\"\u001b[39;00m\n\u001b[0;32m-> 2251\u001b[0m     \u001b[39mreturn\u001b[39;00m \u001b[39mself\u001b[39;49m\u001b[39m.\u001b[39;49m_get_registry_client()\u001b[39m.\u001b[39;49mget_latest_versions(name, stages)\n",
      "File \u001b[0;32m~/projeto_final/.venv/lib/python3.8/site-packages/mlflow/tracking/_model_registry/client.py:149\u001b[0m, in \u001b[0;36mModelRegistryClient.get_latest_versions\u001b[0;34m(self, name, stages)\u001b[0m\n\u001b[1;32m    139\u001b[0m \u001b[39mdef\u001b[39;00m \u001b[39mget_latest_versions\u001b[39m(\u001b[39mself\u001b[39m, name, stages\u001b[39m=\u001b[39m\u001b[39mNone\u001b[39;00m):\n\u001b[1;32m    140\u001b[0m     \u001b[39m\"\"\"\u001b[39;00m\n\u001b[1;32m    141\u001b[0m \u001b[39m    Latest version models for each requests stage. If no ``stages`` provided, returns the\u001b[39;00m\n\u001b[1;32m    142\u001b[0m \u001b[39m    latest version for each stage.\u001b[39;00m\n\u001b[0;32m   (...)\u001b[0m\n\u001b[1;32m    147\u001b[0m \u001b[39m    :return: List of :py:class:`mlflow.entities.model_registry.ModelVersion` objects.\u001b[39;00m\n\u001b[1;32m    148\u001b[0m \u001b[39m    \"\"\"\u001b[39;00m\n\u001b[0;32m--> 149\u001b[0m     \u001b[39mreturn\u001b[39;00m \u001b[39mself\u001b[39;49m\u001b[39m.\u001b[39;49mstore\u001b[39m.\u001b[39;49mget_latest_versions(name, stages)\n",
      "File \u001b[0;32m~/projeto_final/.venv/lib/python3.8/site-packages/mlflow/store/model_registry/rest_store.py:197\u001b[0m, in \u001b[0;36mRestStore.get_latest_versions\u001b[0;34m(self, name, stages)\u001b[0m\n\u001b[1;32m    187\u001b[0m \u001b[39m\"\"\"\u001b[39;00m\n\u001b[1;32m    188\u001b[0m \u001b[39mLatest version models for each requested stage. If no ``stages`` argument is provided,\u001b[39;00m\n\u001b[1;32m    189\u001b[0m \u001b[39mreturns the latest version for each stage.\u001b[39;00m\n\u001b[0;32m   (...)\u001b[0m\n\u001b[1;32m    194\u001b[0m \u001b[39m:return: List of :py:class:`mlflow.entities.model_registry.ModelVersion` objects.\u001b[39;00m\n\u001b[1;32m    195\u001b[0m \u001b[39m\"\"\"\u001b[39;00m\n\u001b[1;32m    196\u001b[0m req_body \u001b[39m=\u001b[39m message_to_json(GetLatestVersions(name\u001b[39m=\u001b[39mname, stages\u001b[39m=\u001b[39mstages))\n\u001b[0;32m--> 197\u001b[0m response_proto \u001b[39m=\u001b[39m \u001b[39mself\u001b[39;49m\u001b[39m.\u001b[39;49m_call_endpoint(GetLatestVersions, req_body, call_all_endpoints\u001b[39m=\u001b[39;49m\u001b[39mTrue\u001b[39;49;00m)\n\u001b[1;32m    198\u001b[0m \u001b[39mreturn\u001b[39;00m [\n\u001b[1;32m    199\u001b[0m     ModelVersion\u001b[39m.\u001b[39mfrom_proto(model_version)\n\u001b[1;32m    200\u001b[0m     \u001b[39mfor\u001b[39;00m model_version \u001b[39min\u001b[39;00m response_proto\u001b[39m.\u001b[39mmodel_versions\n\u001b[1;32m    201\u001b[0m ]\n",
      "File \u001b[0;32m~/projeto_final/.venv/lib/python3.8/site-packages/mlflow/store/model_registry/rest_store.py:61\u001b[0m, in \u001b[0;36mRestStore._call_endpoint\u001b[0;34m(self, api, json_body, call_all_endpoints)\u001b[0m\n\u001b[1;32m     59\u001b[0m \u001b[39mif\u001b[39;00m call_all_endpoints:\n\u001b[1;32m     60\u001b[0m     endpoints \u001b[39m=\u001b[39m _METHOD_TO_ALL_INFO[api]\n\u001b[0;32m---> 61\u001b[0m     \u001b[39mreturn\u001b[39;00m call_endpoints(\u001b[39mself\u001b[39;49m\u001b[39m.\u001b[39;49mget_host_creds(), endpoints, json_body, response_proto)\n\u001b[1;32m     62\u001b[0m \u001b[39melse\u001b[39;00m:\n\u001b[1;32m     63\u001b[0m     endpoint, method \u001b[39m=\u001b[39m _METHOD_TO_INFO[api]\n",
      "File \u001b[0;32m~/projeto_final/.venv/lib/python3.8/site-packages/mlflow/utils/rest_utils.py:294\u001b[0m, in \u001b[0;36mcall_endpoints\u001b[0;34m(host_creds, endpoints, json_body, response_proto)\u001b[0m\n\u001b[1;32m    292\u001b[0m \u001b[39mexcept\u001b[39;00m RestException \u001b[39mas\u001b[39;00m e:\n\u001b[1;32m    293\u001b[0m     \u001b[39mif\u001b[39;00m e\u001b[39m.\u001b[39merror_code \u001b[39m!=\u001b[39m ErrorCode\u001b[39m.\u001b[39mName(ENDPOINT_NOT_FOUND) \u001b[39mor\u001b[39;00m i \u001b[39m==\u001b[39m \u001b[39mlen\u001b[39m(endpoints) \u001b[39m-\u001b[39m \u001b[39m1\u001b[39m:\n\u001b[0;32m--> 294\u001b[0m         \u001b[39mraise\u001b[39;00m e\n",
      "File \u001b[0;32m~/projeto_final/.venv/lib/python3.8/site-packages/mlflow/utils/rest_utils.py:291\u001b[0m, in \u001b[0;36mcall_endpoints\u001b[0;34m(host_creds, endpoints, json_body, response_proto)\u001b[0m\n\u001b[1;32m    289\u001b[0m \u001b[39mfor\u001b[39;00m i, (endpoint, method) \u001b[39min\u001b[39;00m \u001b[39menumerate\u001b[39m(endpoints):\n\u001b[1;32m    290\u001b[0m     \u001b[39mtry\u001b[39;00m:\n\u001b[0;32m--> 291\u001b[0m         \u001b[39mreturn\u001b[39;00m call_endpoint(host_creds, endpoint, method, json_body, response_proto)\n\u001b[1;32m    292\u001b[0m     \u001b[39mexcept\u001b[39;00m RestException \u001b[39mas\u001b[39;00m e:\n\u001b[1;32m    293\u001b[0m         \u001b[39mif\u001b[39;00m e\u001b[39m.\u001b[39merror_code \u001b[39m!=\u001b[39m ErrorCode\u001b[39m.\u001b[39mName(ENDPOINT_NOT_FOUND) \u001b[39mor\u001b[39;00m i \u001b[39m==\u001b[39m \u001b[39mlen\u001b[39m(endpoints) \u001b[39m-\u001b[39m \u001b[39m1\u001b[39m:\n",
      "File \u001b[0;32m~/projeto_final/.venv/lib/python3.8/site-packages/mlflow/utils/rest_utils.py:280\u001b[0m, in \u001b[0;36mcall_endpoint\u001b[0;34m(host_creds, endpoint, method, json_body, response_proto)\u001b[0m\n\u001b[1;32m    276\u001b[0m \u001b[39melse\u001b[39;00m:\n\u001b[1;32m    277\u001b[0m     response \u001b[39m=\u001b[39m http_request(\n\u001b[1;32m    278\u001b[0m         host_creds\u001b[39m=\u001b[39mhost_creds, endpoint\u001b[39m=\u001b[39mendpoint, method\u001b[39m=\u001b[39mmethod, json\u001b[39m=\u001b[39mjson_body\n\u001b[1;32m    279\u001b[0m     )\n\u001b[0;32m--> 280\u001b[0m response \u001b[39m=\u001b[39m verify_rest_response(response, endpoint)\n\u001b[1;32m    281\u001b[0m js_dict \u001b[39m=\u001b[39m json\u001b[39m.\u001b[39mloads(response\u001b[39m.\u001b[39mtext)\n\u001b[1;32m    282\u001b[0m parse_dict(js_dict\u001b[39m=\u001b[39mjs_dict, message\u001b[39m=\u001b[39mresponse_proto)\n",
      "File \u001b[0;32m~/projeto_final/.venv/lib/python3.8/site-packages/mlflow/utils/rest_utils.py:206\u001b[0m, in \u001b[0;36mverify_rest_response\u001b[0;34m(response, endpoint)\u001b[0m\n\u001b[1;32m    204\u001b[0m \u001b[39mif\u001b[39;00m response\u001b[39m.\u001b[39mstatus_code \u001b[39m!=\u001b[39m \u001b[39m200\u001b[39m:\n\u001b[1;32m    205\u001b[0m     \u001b[39mif\u001b[39;00m _can_parse_as_json_object(response\u001b[39m.\u001b[39mtext):\n\u001b[0;32m--> 206\u001b[0m         \u001b[39mraise\u001b[39;00m RestException(json\u001b[39m.\u001b[39mloads(response\u001b[39m.\u001b[39mtext))\n\u001b[1;32m    207\u001b[0m     \u001b[39melse\u001b[39;00m:\n\u001b[1;32m    208\u001b[0m         base_msg \u001b[39m=\u001b[39m \u001b[39m\"\u001b[39m\u001b[39mAPI request to endpoint \u001b[39m\u001b[39m%s\u001b[39;00m\u001b[39m failed with error code \u001b[39m\u001b[39m%s\u001b[39;00m\u001b[39m != 200\u001b[39m\u001b[39m\"\u001b[39m \u001b[39m%\u001b[39m (\n\u001b[1;32m    209\u001b[0m             endpoint,\n\u001b[1;32m    210\u001b[0m             response\u001b[39m.\u001b[39mstatus_code,\n\u001b[1;32m    211\u001b[0m         )\n",
      "\u001b[0;31mRestException\u001b[0m: RESOURCE_DOES_NOT_EXIST: Registered Model with name=classificacao_vinho not found"
     ]
    }
   ],
   "source": [
    "import mlflow\n",
    "\n",
    "mlflow.set_tracking_uri(uri='http://localhost:5000/')\n",
    "mlflow.sklearn.load_model('models:/classificacao_vinho/Production')"
   ]
  }
 ],
 "metadata": {
  "kernelspec": {
   "display_name": "Python 3.8.10 ('.venv': venv)",
   "language": "python",
   "name": "python3"
  },
  "language_info": {
   "codemirror_mode": {
    "name": "ipython",
    "version": 3
   },
   "file_extension": ".py",
   "mimetype": "text/x-python",
   "name": "python",
   "nbconvert_exporter": "python",
   "pygments_lexer": "ipython3",
   "version": "3.8.10"
  },
  "orig_nbformat": 4,
  "vscode": {
   "interpreter": {
    "hash": "3d15e0d636a630bcc663fdd0d1c3f019adb043a031818a11ef1e18b8596d20ae"
   }
  }
 },
 "nbformat": 4,
 "nbformat_minor": 2
}
